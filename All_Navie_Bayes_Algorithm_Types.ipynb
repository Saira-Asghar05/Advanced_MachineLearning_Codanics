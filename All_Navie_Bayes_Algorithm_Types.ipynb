{
  "nbformat": 4,
  "nbformat_minor": 0,
  "metadata": {
    "colab": {
      "provenance": []
    },
    "kernelspec": {
      "name": "python3",
      "display_name": "Python 3"
    },
    "language_info": {
      "name": "python"
    }
  },
  "cells": [
    {
      "cell_type": "markdown",
      "source": [
        "very important algorithm also use for sentimental analysis \n",
        "Artifical Neural Network se bhi sentimental analysis krty hy lekn ye bht asha model hy"
      ],
      "metadata": {
        "id": "sMDEzbXprYVj"
      }
    },
    {
      "cell_type": "code",
      "source": [
        "import seaborn as sns\n",
        "import pandas as pd\n",
        "from sklearn.model_selection import train_test_split\n",
        "from sklearn.naive_bayes import GaussianNB\n",
        "from sklearn.metrics import accuracy_score\n",
        "\n",
        "\n",
        "#load the dataset from seaborn\n",
        "from sklearn.datasets import load_iris #ku k es dataset me sari continous values hy esliye es se classification kry gy\n",
        "iris = load_iris()\n",
        "#also other method to upload data\n",
        "#diamonds = pd.read_csv(\"https://raw.githubusercontent.com/mwaskom/seaborn-data/master/diamonds\")\n",
        "\n",
        "\n",
        "X_train, X_test, y_train,y_test = train_test_split(iris.data,iris.target, test_size=0.3, random_state=42)#randon state koi bhi likh de tu kuch nhi hota lekn agr ek bar model run hony k bad change ki tu accuracy pr chane aye ga. 42 ko use krny se jo accurach ek bar a gai har bar wohi aye gi change nhi hogi agr change hoi bhi tu thori bht change hogi.zyda tr 42 use krty hy.\n",
        "gnb = GaussianNB()\n",
        "gnb.fit(X_train,y_train)\n",
        "y_pred = gnb.predict(X_test)\n",
        "print(\"Accuracy:\", accuracy_score(y_test, y_pred))\n",
        "\n",
        "\n"
      ],
      "metadata": {
        "id": "tzdL1Gnq1YdY",
        "colab": {
          "base_uri": "https://localhost:8080/"
        },
        "outputId": "3c527ab1-5a35-41b1-8fa6-e346fc859744"
      },
      "execution_count": 1,
      "outputs": [
        {
          "output_type": "stream",
          "name": "stdout",
          "text": [
            "Accuracy: 0.9777777777777777\n"
          ]
        }
      ]
    },
    {
      "cell_type": "code",
      "source": [],
      "metadata": {
        "id": "1ENUwpE8Zhwb"
      },
      "execution_count": null,
      "outputs": []
    },
    {
      "cell_type": "code",
      "source": [
        "import seaborn as sns\n",
        "import pandas as pd\n",
        "from sklearn.model_selection import train_test_split\n",
        "from sklearn.naive_bayes import GaussianNB\n",
        "from sklearn.metrics import accuracy_score\n",
        "from sklearn.datasets import load_diabetes\n",
        "\n",
        "\n",
        "#also other method to upload data load the diamonds dataset and create a pandas dataframe\n",
        "diamonds = pd.read_csv('https://raw.githubusercontent.com/mwaskom/seaborn-data/master/diamonds.csv')\n",
        "\n",
        "#separate the features and the target variables\n",
        "\n",
        "X = diamonds[['carat','depth','table','x','y','z']]\n",
        "y = diamonds['cut']\n",
        "\n",
        "#split the dataset into training and testing sets\n",
        "X_train, X_test, y_train,y_test = train_test_split(X,y,test_size=0.3, random_state=42)#randon state koi bhi likh de tu kuch nhi hota lekn agr ek bar model run hony k bad change ki tu accuracy pr chane aye ga. 42 ko use krny se jo accurach ek bar a gai har bar wohi aye gi change nhi hogi agr change hoi bhi tu thori bht change hogi.zyda tr 42 use krty hy.\n",
        "#create a Gaussian Navie classifier and fit it to the training data\n",
        "gnb = GaussianNB()\n",
        "gnb.fit(X_train,y_train)\n",
        "#use the classifier to make predictions on the testing data\n",
        "y_pred = gnb.predict(X_test)\n",
        "#evaluate the accuracy of the predictions\n",
        "print(\"Accuracy:\", accuracy_score(y_test, y_pred))\n",
        "\n",
        "\n"
      ],
      "metadata": {
        "colab": {
          "base_uri": "https://localhost:8080/"
        },
        "outputId": "4379ed89-dfdd-42d6-e89f-58658e4d6211",
        "id": "sYEyiGOaZim1"
      },
      "execution_count": 3,
      "outputs": [
        {
          "output_type": "stream",
          "name": "stdout",
          "text": [
            "Accuracy: 0.5902237053516253\n"
          ]
        }
      ]
    },
    {
      "cell_type": "code",
      "source": [],
      "metadata": {
        "id": "N9Q0X6F3fTR0"
      },
      "execution_count": null,
      "outputs": []
    },
    {
      "cell_type": "markdown",
      "source": [
        "eski accuarcy opr waly se km ai tu y pr depend krta hy k hmny classification krni hy ya regression aur X pr depend krta hy k hmny konsa navie base ka algorithm use krna hy.esky algorithm 4 types k hy."
      ],
      "metadata": {
        "id": "BIpyEd5jct6P"
      }
    },
    {
      "cell_type": "code",
      "source": [],
      "metadata": {
        "id": "MnL3p6lofUwh"
      },
      "execution_count": null,
      "outputs": []
    },
    {
      "cell_type": "code",
      "source": [
        "import seaborn as sns\n",
        "import pandas as pd\n",
        "from sklearn.model_selection import train_test_split\n",
        "from sklearn.naive_bayes import BernoulliNB, MultinomialNB\n",
        "from sklearn.metrics import accuracy_score\n",
        "from sklearn.datasets import load_digits\n",
        "import numpy as np\n",
        "\n",
        "\n",
        "#also other method to upload data ,load the digits dataset and create a pandas dataframe\n",
        "digits = load_digits()\n",
        "X = digits.data\n",
        "y = digits.target\n",
        "\n",
        "#split the dataset into training and testing sets\n",
        "X_train, X_test, y_train,y_test = train_test_split(X,y,test_size=0.3, random_state=42)#randon state koi bhi likh de tu kuch nhi hota lekn agr ek bar model run hony k bad change ki tu accuracy pr chane aye ga. 42 ko use krny se jo accurach ek bar a gai har bar wohi aye gi change nhi hogi agr change hoi bhi tu thori bht change hogi.zyda tr 42 use krty hy.\n",
        "\n",
        "#create a Bernolli Navie Bayes classifier and fit it to the training data\n",
        "bnb = BernoulliNB(binarize=0.5) #bernoullinb jha bhi lena hy tu btana hy k binary ko kha r divide krna hy kmny 0.5 se zyda ya km ,0 se zyda ya km,1 se km ya 1 se zyda pr krna hy, ye eska hyperpaermeter hy agr ni likhy gy tu defaultly eska detect krly ga\n",
        "bnb.fit(X_train,y_train)\n",
        "\n",
        "#use the classifier to make predictions on the testing data\n",
        "y_pred_bnb = bnb.predict(X_test)\n",
        "\n",
        "#create a Bernolli Navie Bayes classifier and fit it to the training data\n",
        "mnb = MultinomialNB()\n",
        "mnb.fit(X_train,y_train)\n",
        "\n",
        "#use the classifier to make predictions on the testing data\n",
        "y_pred_mnb = mnb.predict(X_test)\n",
        "\n",
        "#evaluate the accuracy of the predictions\n",
        "print(\"Bernoulli Naive Bayes accuracy:\", accuracy_score(y_test, y_pred_bnb))\n",
        "print(\"Multinomial Naive Bayes accuracy:\", accuracy_score(y_test, y_pred_mnb))\n",
        "\n",
        "\n"
      ],
      "metadata": {
        "colab": {
          "base_uri": "https://localhost:8080/"
        },
        "outputId": "6a8e2d02-0ce0-47d4-f29d-147cfd89318a",
        "id": "3-sPhAYWfVOm"
      },
      "execution_count": 4,
      "outputs": [
        {
          "output_type": "stream",
          "name": "stdout",
          "text": [
            "Bernoulli Naive Bayes accuracy: 0.8592592592592593\n",
            "Multinomial Naive Bayes accuracy: 0.8944444444444445\n"
          ]
        }
      ]
    },
    {
      "cell_type": "code",
      "source": [
        "y"
      ],
      "metadata": {
        "colab": {
          "base_uri": "https://localhost:8080/"
        },
        "id": "gS8OkjvVkCfv",
        "outputId": "cf503aa0-9d68-42d8-ea72-5de09c96a52e"
      },
      "execution_count": 5,
      "outputs": [
        {
          "output_type": "execute_result",
          "data": {
            "text/plain": [
              "array([0, 1, 2, ..., 8, 9, 8])"
            ]
          },
          "metadata": {},
          "execution_count": 5
        }
      ]
    },
    {
      "cell_type": "code",
      "source": [
        "X"
      ],
      "metadata": {
        "colab": {
          "base_uri": "https://localhost:8080/"
        },
        "id": "5SbNU-BokE_5",
        "outputId": "90ef3fff-5a70-423d-eec2-a635bdfc0fa8"
      },
      "execution_count": 6,
      "outputs": [
        {
          "output_type": "execute_result",
          "data": {
            "text/plain": [
              "array([[ 0.,  0.,  5., ...,  0.,  0.,  0.],\n",
              "       [ 0.,  0.,  0., ..., 10.,  0.,  0.],\n",
              "       [ 0.,  0.,  0., ..., 16.,  9.,  0.],\n",
              "       ...,\n",
              "       [ 0.,  0.,  1., ...,  6.,  0.,  0.],\n",
              "       [ 0.,  0.,  2., ..., 12.,  0.,  0.],\n",
              "       [ 0.,  0., 10., ..., 12.,  1.,  0.]])"
            ]
          },
          "metadata": {},
          "execution_count": 6
        }
      ]
    },
    {
      "cell_type": "markdown",
      "source": [
        "dono algorithms ko kiya enmesy multinimial best hy ku k y ki value multiclass me hy binary me nhi .Aur benolize ki accuracy esliye ashi nhi ai ku k wo binary class k liye use hota hy lekn esy multiclass dataset pr chlaye gy tu hl jaye ga lekn accuracy km aye gi bernolize ki.tu multiclass dataset k liye multinomial best rhy ga.agr sb me se best algorithm ko find kra hy tu best trea hy k unky matrix ko cross validation kr k dekh ly kh kisi accuracy zyda hy kis ki km hy kis ki precision ya accuract score zyda hy es base pr notes in register"
      ],
      "metadata": {
        "id": "Ugxy3HQQjzQp"
      }
    },
    {
      "cell_type": "markdown",
      "source": [],
      "metadata": {
        "id": "rsUjT4PqqnUi"
      }
    },
    {
      "cell_type": "markdown",
      "source": [
        "# **HOw to choose one Navie Bayes Classifier over the other?**important question"
      ],
      "metadata": {
        "id": "lVY04Wi8qnxq"
      }
    },
    {
      "cell_type": "code",
      "source": [],
      "metadata": {
        "id": "2yOIaP9Sy51a"
      },
      "execution_count": null,
      "outputs": []
    },
    {
      "cell_type": "markdown",
      "source": [
        "es code se hm classification algorithms ka comparision kr skty hy"
      ],
      "metadata": {
        "id": "oV5wOoiBskW1"
      }
    },
    {
      "cell_type": "code",
      "source": [
        "import seaborn as sns\n",
        "import pandas as pd\n",
        "import numpy as np\n",
        "from sklearn.naive_bayes import BernoulliNB, MultinomialNB, GaussianNB\n",
        "from sklearn.model_selection import GridSearchCV, train_test_split #Gridsearch cv kafi parameters ko ikhta kr k unka grid bna deti hy ye har possible combination ko dosry combination k sath run kr k best possible solution provide krna hota hy\n",
        "from sklearn.metrics import accuracy_score\n",
        "from sklearn.preprocessing import StandardScaler, MinMaxScaler #standard scalar se mins me value ai stndard scalar -3 se +3 me convert kr deta hy value ko aur minmax negative me nhi krta, minmax scalar o se 1 me convert krta value\n",
        "\n",
        "\n",
        "#load the diamonds dataset and create a pandas dataframe\n",
        "diamonds = sns.load_dataset('diamonds')\n",
        "\n",
        "#separate the features and the target variables\n",
        "\n",
        "X = diamonds[['carat','depth','table','x','y','z']]\n",
        "y = diamonds['cut']\n",
        "\n",
        "\n",
        "#split the dataset into training and testing sets\n",
        "X_train, X_test, y_train,y_test = train_test_split(X,y,test_size=0.3, random_state=42)#randon state koi bhi likh de tu kuch nhi hota lekn agr ek bar model run hony k bad change ki tu accuracy pr chane aye ga. 42 ko use krny se jo accurach ek bar a gai har bar wohi aye gi change nhi hogi agr change hoi bhi tu thori bht change hogi.zyda tr 42 use krty hy.\n",
        "\n",
        "#preprocess the data by scaling the features\n",
        "scalar =  MinMaxScaler()\n",
        "X_train_scaled =scalar.fit_transform(X_train)\n",
        "X_test_scaled =scalar.transform(X_test)\n",
        "\n",
        "#Define the Navie Bayes algorithm to test\n",
        "gnb = GaussianNB()\n",
        "mnb = MultinomialNB()\n",
        "bnb = BernoulliNB()\n",
        "\n",
        "#define the hyperparameters to test for each algorithm, tuning hyperparameters\n",
        "gnb_params = {} #esko simple rkha k koi parameter ni chaye ku k esky default parameter set hooty hy\n",
        "mnb_params = {'alpha': [0.1,0.5,1.0]} #alpha used for smothing the edges\n",
        "bnb_params = {'alpha': [0.1,0.5,1.0], 'binarize':[0.0, 0.5,1.0]}# binrizer rkha ku k hmny binary data ki limit btani hy k 0.5 aur 1 k darmiyan me limit rhy hmari\n",
        "\n",
        "#ab hyperparameters aur model ko run krna hy grid bna k model k andr\n",
        "#define the grid search object to find the best algorithm and hyperparameters\n",
        "grid = GridSearchCV(estimator=None, param_grid = None, scoring = 'accuracy', cv =5, error_score='raise')#scoring accuracy rkhi ku k hmny sbki accur\n",
        "\n",
        "#fit the grid search object to the training data to find the best  algorithm and hyperparameters\n",
        "#ye code best model ko find krny k liye likha aur best model ko\n",
        "best_score = 0\n",
        "best_algo = None\n",
        "best_params = None\n",
        "for algo, params in [(gnb,gnb_params),(mnb,mnb_params),(bnb,bnb_params)]: #for loop me 3no models ko likha aur unky parametes likhy\n",
        "  grid.estimator = algo\n",
        "  grid.param_grid = params\n",
        "  grid.fit(X_train_scaled,y_train)\n",
        "  if grid.best_score_ > best_score:  #if condition esliye lgai k hmy best wala chahye\n",
        "    best_score = grid.best_score_\n",
        "    best_algo = algo\n",
        "    best_params = grid.best_params_\n",
        "\n",
        "#train the best naive bayes model on the training data using the chosen algrithm and hyperparameters\n",
        "best_model = best_algo.set_params(**best_params)#ye code best model k best parameters find krny k liye likha\n",
        "best_model.fit(X_train_scaled, y_train)\n",
        "#use the best model to make predictions on the testing data\n",
        "y_pred = best_model.predict(X_test_scaled)\n",
        "\n",
        "#evaluate the accuracy of the preictions\n",
        "accuracy = accuracy_score(y_test, y_pred)\n",
        "print(\"Accuracy:\", accuracy) #ye accuracy best algorithm ko choose kr k usky best hyperparameters ko find krny ki hy\n",
        "\n"
      ],
      "metadata": {
        "colab": {
          "base_uri": "https://localhost:8080/"
        },
        "outputId": "2bb28074-f4c1-456e-9459-30f5a71a368c",
        "id": "qIRwhIyZzKGl"
      },
      "execution_count": 4,
      "outputs": [
        {
          "output_type": "stream",
          "name": "stdout",
          "text": [
            "Accuracy: 0.5902237053516253\n"
          ]
        }
      ]
    },
    {
      "cell_type": "markdown",
      "source": [
        "phli bar run krny se eror ay k multinomial nive ko negative values pass hoi hy tu esko wja ye hy k hmny standard scalar use kiya hy tu hm standard scalar ko change krdy gy.ku k standard scalar se minu me value ai"
      ],
      "metadata": {
        "id": "OWEeUe-7necY"
      }
    },
    {
      "cell_type": "markdown",
      "source": [
        "ab hm best model ko rint kr k dekhy gy opr waly code se"
      ],
      "metadata": {
        "id": "Un43NTzHpvQY"
      }
    },
    {
      "cell_type": "code",
      "source": [
        "best_model"
      ],
      "metadata": {
        "colab": {
          "base_uri": "https://localhost:8080/",
          "height": 75
        },
        "id": "zLN85D3wpuL3",
        "outputId": "0e0e1889-ca45-40e2-967a-0bd065355386"
      },
      "execution_count": 5,
      "outputs": [
        {
          "output_type": "execute_result",
          "data": {
            "text/plain": [
              "GaussianNB()"
            ],
            "text/html": [
              "<style>#sk-container-id-1 {color: black;background-color: white;}#sk-container-id-1 pre{padding: 0;}#sk-container-id-1 div.sk-toggleable {background-color: white;}#sk-container-id-1 label.sk-toggleable__label {cursor: pointer;display: block;width: 100%;margin-bottom: 0;padding: 0.3em;box-sizing: border-box;text-align: center;}#sk-container-id-1 label.sk-toggleable__label-arrow:before {content: \"▸\";float: left;margin-right: 0.25em;color: #696969;}#sk-container-id-1 label.sk-toggleable__label-arrow:hover:before {color: black;}#sk-container-id-1 div.sk-estimator:hover label.sk-toggleable__label-arrow:before {color: black;}#sk-container-id-1 div.sk-toggleable__content {max-height: 0;max-width: 0;overflow: hidden;text-align: left;background-color: #f0f8ff;}#sk-container-id-1 div.sk-toggleable__content pre {margin: 0.2em;color: black;border-radius: 0.25em;background-color: #f0f8ff;}#sk-container-id-1 input.sk-toggleable__control:checked~div.sk-toggleable__content {max-height: 200px;max-width: 100%;overflow: auto;}#sk-container-id-1 input.sk-toggleable__control:checked~label.sk-toggleable__label-arrow:before {content: \"▾\";}#sk-container-id-1 div.sk-estimator input.sk-toggleable__control:checked~label.sk-toggleable__label {background-color: #d4ebff;}#sk-container-id-1 div.sk-label input.sk-toggleable__control:checked~label.sk-toggleable__label {background-color: #d4ebff;}#sk-container-id-1 input.sk-hidden--visually {border: 0;clip: rect(1px 1px 1px 1px);clip: rect(1px, 1px, 1px, 1px);height: 1px;margin: -1px;overflow: hidden;padding: 0;position: absolute;width: 1px;}#sk-container-id-1 div.sk-estimator {font-family: monospace;background-color: #f0f8ff;border: 1px dotted black;border-radius: 0.25em;box-sizing: border-box;margin-bottom: 0.5em;}#sk-container-id-1 div.sk-estimator:hover {background-color: #d4ebff;}#sk-container-id-1 div.sk-parallel-item::after {content: \"\";width: 100%;border-bottom: 1px solid gray;flex-grow: 1;}#sk-container-id-1 div.sk-label:hover label.sk-toggleable__label {background-color: #d4ebff;}#sk-container-id-1 div.sk-serial::before {content: \"\";position: absolute;border-left: 1px solid gray;box-sizing: border-box;top: 0;bottom: 0;left: 50%;z-index: 0;}#sk-container-id-1 div.sk-serial {display: flex;flex-direction: column;align-items: center;background-color: white;padding-right: 0.2em;padding-left: 0.2em;position: relative;}#sk-container-id-1 div.sk-item {position: relative;z-index: 1;}#sk-container-id-1 div.sk-parallel {display: flex;align-items: stretch;justify-content: center;background-color: white;position: relative;}#sk-container-id-1 div.sk-item::before, #sk-container-id-1 div.sk-parallel-item::before {content: \"\";position: absolute;border-left: 1px solid gray;box-sizing: border-box;top: 0;bottom: 0;left: 50%;z-index: -1;}#sk-container-id-1 div.sk-parallel-item {display: flex;flex-direction: column;z-index: 1;position: relative;background-color: white;}#sk-container-id-1 div.sk-parallel-item:first-child::after {align-self: flex-end;width: 50%;}#sk-container-id-1 div.sk-parallel-item:last-child::after {align-self: flex-start;width: 50%;}#sk-container-id-1 div.sk-parallel-item:only-child::after {width: 0;}#sk-container-id-1 div.sk-dashed-wrapped {border: 1px dashed gray;margin: 0 0.4em 0.5em 0.4em;box-sizing: border-box;padding-bottom: 0.4em;background-color: white;}#sk-container-id-1 div.sk-label label {font-family: monospace;font-weight: bold;display: inline-block;line-height: 1.2em;}#sk-container-id-1 div.sk-label-container {text-align: center;}#sk-container-id-1 div.sk-container {/* jupyter's `normalize.less` sets `[hidden] { display: none; }` but bootstrap.min.css set `[hidden] { display: none !important; }` so we also need the `!important` here to be able to override the default hidden behavior on the sphinx rendered scikit-learn.org. See: https://github.com/scikit-learn/scikit-learn/issues/21755 */display: inline-block !important;position: relative;}#sk-container-id-1 div.sk-text-repr-fallback {display: none;}</style><div id=\"sk-container-id-1\" class=\"sk-top-container\"><div class=\"sk-text-repr-fallback\"><pre>GaussianNB()</pre><b>In a Jupyter environment, please rerun this cell to show the HTML representation or trust the notebook. <br />On GitHub, the HTML representation is unable to render, please try loading this page with nbviewer.org.</b></div><div class=\"sk-container\" hidden><div class=\"sk-item\"><div class=\"sk-estimator sk-toggleable\"><input class=\"sk-toggleable__control sk-hidden--visually\" id=\"sk-estimator-id-1\" type=\"checkbox\" checked><label for=\"sk-estimator-id-1\" class=\"sk-toggleable__label sk-toggleable__label-arrow\">GaussianNB</label><div class=\"sk-toggleable__content\"><pre>GaussianNB()</pre></div></div></div></div></div>"
            ]
          },
          "metadata": {},
          "execution_count": 5
        }
      ]
    },
    {
      "cell_type": "markdown",
      "source": [
        "esky bad esbest model k parameters ko bhi print kr skty hy"
      ],
      "metadata": {
        "id": "7pBYykoJqCzH"
      }
    },
    {
      "cell_type": "code",
      "source": [
        "best_model.get_params"
      ],
      "metadata": {
        "colab": {
          "base_uri": "https://localhost:8080/"
        },
        "id": "0gzXMO8wqKwq",
        "outputId": "2ac83358-84d0-4773-b6f6-d94d96dd7f95"
      },
      "execution_count": 6,
      "outputs": [
        {
          "output_type": "execute_result",
          "data": {
            "text/plain": [
              "<bound method BaseEstimator.get_params of GaussianNB()>"
            ]
          },
          "metadata": {},
          "execution_count": 6
        }
      ]
    },
    {
      "cell_type": "markdown",
      "source": [
        "opr result me koi parameter esliye nhi aya ku k hmny gaussian ko parameters ni diye thy efult thy"
      ],
      "metadata": {
        "id": "M9IqRWlqqSv5"
      }
    },
    {
      "cell_type": "code",
      "source": [],
      "metadata": {
        "id": "Y5au7UJ8qs1a"
      },
      "execution_count": null,
      "outputs": []
    }
  ]
}