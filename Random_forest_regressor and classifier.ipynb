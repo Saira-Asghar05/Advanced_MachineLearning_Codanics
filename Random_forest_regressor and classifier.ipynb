{
  "nbformat": 4,
  "nbformat_minor": 0,
  "metadata": {
    "colab": {
      "provenance": []
    },
    "kernelspec": {
      "name": "python3",
      "display_name": "Python 3"
    },
    "language_info": {
      "name": "python"
    }
  },
  "cells": [
    {
      "cell_type": "markdown",
      "source": [
        "# **Random_forest_regressor**\n",
        "\n"
      ],
      "metadata": {
        "id": "yC8WxN7e1UjI"
      }
    },
    {
      "cell_type": "code",
      "source": [
        "import seaborn as sns\n",
        "import pandas as pd\n",
        "from sklearn.model_selection import train_test_split\n",
        "from sklearn.ensemble import RandomForestRegressor\n",
        "from sklearn.metrics import r2_score,mean_squared_error\n",
        "\n",
        "#load the dataset from seaborn\n",
        "diamonds = sns.load_dataset('diamonds')\n",
        "#also other method to upload data\n",
        "#diamonds = pd.read_csv(\"https://raw.githubusercontent.com/mwaskom/seaborn-data/master/diamonds\")\n",
        "\n",
        "#another way of encoding means another way of converting categories  variable into numerical vaalues\n",
        "#encoding types: hot encoding, label encoding,get dames\n",
        "#lekn ye wala code label encoding wala kam kr rha hy\n",
        "#ye esliye krty hy k text ki bjaye jb hm numeric me chzy ly kr jaty hy tu computation easy ho jati hy\n",
        "\n",
        "diamonds[\"cut\"]= diamonds[\"cut\"].astype('category').cat.codes\n",
        "diamonds[\"color\"]= diamonds[\"color\"].astype('category').cat.codes\n",
        "diamonds[\"clarity\"]= diamonds[\"clarity\"].astype('category').cat.codes  #.cat category hy .pandas ye kam krta hy\n",
        "\n",
        "#split the data into trining and testing sets\n",
        "#cut ko classify krny k liye\n",
        "X = diamonds.drop(columns=[\"price\"]) #price colmb l ilawa sary colmb ly liye,price k ilawa baki chezo ko drop kr diya ,price k ilawa baki chzy x me a gai, dosry treqy me hm sb ko likhty hy lekn es treqy me ek ko dropp kr iya\n",
        "y = diamonds[\"price\"]  #y me price kko rkh liya\n",
        "X_train, X_test, y_train,y_test = train_test_split(X,y, test_size=0.3, random_state=1)\n",
        "\n",
        "#initialize the decision tree classifier\n",
        "rf = RandomForestRegressor(n_estimators=100, random_state=1) #n_estimator ka matlab kitny number of trees hmny ly kr ane hy ya estimators kitny ly kr any hy\n",
        "\n",
        "\n",
        "#train the model on the training data\n",
        "rf.fit(X_train, y_train)  #rf matlab random foreast hm model bhi bol skty hy\n",
        "\n",
        "#make predictionson the testing data\n",
        "y_pred = rf.predict(X_test)\n",
        "\n",
        "#evalute the accuracy of the model\n",
        "r2= r2_score(y_test, y_pred)\n",
        "mse = mean_squared_error(y_test,y_pred)\n",
        "print(\"R^2:\",r2)\n",
        "print(\"MSE:\", mse)\n",
        "\n",
        "\n"
      ],
      "metadata": {
        "id": "tzdL1Gnq1YdY",
        "colab": {
          "base_uri": "https://localhost:8080/"
        },
        "outputId": "e73860a5-4d44-4548-c93f-826dfc2d6327"
      },
      "execution_count": 2,
      "outputs": [
        {
          "output_type": "stream",
          "name": "stdout",
          "text": [
            "R^2: 0.9812877669138073\n",
            "MSE: 287042.2024387708\n"
          ]
        }
      ]
    },
    {
      "cell_type": "markdown",
      "source": [
        "# **Random_forest_classifier**"
      ],
      "metadata": {
        "id": "4x1JQF1ZsEeZ"
      }
    },
    {
      "cell_type": "code",
      "source": [],
      "metadata": {
        "id": "MqPqwoVTsLCn"
      },
      "execution_count": null,
      "outputs": []
    },
    {
      "cell_type": "code",
      "source": [
        "\n",
        "import seaborn as sns\n",
        "import pandas as pd\n",
        "from sklearn.model_selection import train_test_split\n",
        "from sklearn.ensemble import RandomForestClassifier\n",
        "from sklearn.metrics import accuracy_score\n",
        "\n",
        "#load the dataset from seaborn\n",
        "diamonds = sns.load_dataset('diamonds')\n",
        "#also other method to upload data\n",
        "#diamonds = pd.read_csv(\"https://raw.githubusercontent.com/mwaskom/seaborn-data/master/diamonds\")\n",
        "\n",
        "#another way of encoding means another way of converting categories  variable into numerical vaalues\n",
        "#encoding types: hot encoding, label encoding,get dames\n",
        "#lekn ye wala code label encoding wala kam kr rha hy\n",
        "#ye esliye krty hy k text ki bjaye jb hm numeric me chzy ly kr jaty hy tu computation easy ho jati hy\n",
        "diamonds[\"cut\"]= diamonds[\"cut\"].astype('category').cat.codes\n",
        "diamonds[\"color\"]= diamonds[\"color\"].astype('category').cat.codes\n",
        "diamonds[\"clarity\"]= diamonds[\"clarity\"].astype('category').cat.codes  #.cat category hy .pandas ye kam krta hy\n",
        "\n",
        "#split the data into trining and testing sets\n",
        "#cut ko classify krny k liye\n",
        "X = diamonds.drop(columns=[\"cut\"]) #cut colmb l ilawa sary colmb ly liye,cut k ilawa baki chezo ko drop kr diya ,cut k ilawa baki chzy x me a gai, dosry treqy me hm sb ko likhty hy lekn es treqy me ek ko dropp kr iya\n",
        "y = diamonds[\"cut\"]  #y me cut kko rkh liya\n",
        "X_train, X_test, y_train,y_test = train_test_split(X,y, test_size=0.3, random_state=1)\n",
        "\n",
        "#initialize the decision tree classifier\n",
        "rf = RandomForestClassifier(n_estimators=100, random_state=1) #n_estimator ka matlab kitny number of trees hmny ly kr ane hy ya estimators kitny ly kr any hy\n",
        "\n",
        "\n",
        "#train the model on the training data\n",
        "rf.fit(X_train, y_train)  #rf matlab random foreast hm model bhi bol skty hy\n",
        "\n",
        "#make predictionson the testing data\n",
        "y_pred = rf.predict(X_test)\n",
        "\n",
        "#evalute the accuracy of the model\n",
        "accuracy = accuracy_score(y_test,y_pred)\n",
        "print(\"accuracy:\",accuracy)\n",
        "\n",
        "\n"
      ],
      "metadata": {
        "colab": {
          "base_uri": "https://localhost:8080/"
        },
        "outputId": "cadba192-d4f3-4cb0-8485-3ecde61ef168",
        "id": "ayYaZ68SsQfN"
      },
      "execution_count": 3,
      "outputs": [
        {
          "output_type": "stream",
          "name": "stdout",
          "text": [
            "accuracy: 0.7861821777283401\n"
          ]
        }
      ]
    }
  ]
}