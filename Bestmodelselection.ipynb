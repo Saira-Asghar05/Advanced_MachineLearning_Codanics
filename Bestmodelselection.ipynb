{
  "nbformat": 4,
  "nbformat_minor": 0,
  "metadata": {
    "colab": {
      "provenance": []
    },
    "kernelspec": {
      "name": "python3",
      "display_name": "Python 3"
    },
    "language_info": {
      "name": "python"
    }
  },
  "cells": [
    {
      "cell_type": "code",
      "execution_count": null,
      "metadata": {
        "id": "RHglTmYHyjTT",
        "colab": {
          "base_uri": "https://localhost:8080/"
        },
        "outputId": "d878a7d6-1a5e-4c34-866f-6160f14f9a93"
      },
      "outputs": [
        {
          "output_type": "stream",
          "name": "stdout",
          "text": [
            "Accuracy Score:  Logistic Regression :0.81\n",
            "Accuracy Score:  Random Forest :0.80\n",
            "Accuracy Score:  Decision Tree :0.77\n",
            "Accuracy Score:  KNN :0.69\n",
            "Accuracy Score:  SVM :0.66\n"
          ]
        }
      ],
      "source": [
        "# import libraries\n",
        "\n",
        "import pandas as pd\n",
        "\n",
        "import numpy as np\n",
        "\n",
        "import seaborn as sns\n",
        "\n",
        "import matplotlib.pyplot as plt\n",
        "\n",
        "df = sns.load_dataset (\"titanic\") #titanic ka dataset download kiya ku k esmy missing values hoti hy\n",
        "\n",
        "X = df[['pclass', 'sex', 'age', 'sibsp', 'parch', 'fare']] #X rkha\n",
        "\n",
        "y = df ['survived'] #survived ko y rkha tu esliye ye classification algorithm hoga hmara\n",
        "\n",
        "X = pd.get_dummies (X, columns=['sex']) #get dummies kr k X k colm ko 0 aur 1 me divide kr diya\n",
        "\n",
        "X.age.fillna(value = X['age'].mean(), inplace=True)# age ki value ko mean se fill kr diya\n",
        "\n",
        "from sklearn.linear_model import LogisticRegression #sklearn se linear model me logistic regression liya\n",
        "\n",
        "from sklearn.svm import SVC #svm se support vector classifier liya\n",
        "\n",
        "from sklearn.tree import DecisionTreeClassifier\n",
        "\n",
        "from sklearn.ensemble import RandomForestClassifier\n",
        "\n",
        "from sklearn.neighbors import KNeighborsClassifier\n",
        "\n",
        "from sklearn.metrics import accuracy_score, f1_score, precision_score, recall_score # classification k matrix liye, agr 15 lines code ki hy 26 matrix liye ese nni krna\n",
        "\n",
        "from sklearn.model_selection import train_test_split\n",
        "\n",
        "X_train, X_test, y_train, y_test = train_test_split(X, y, test_size=0.2, random_state=42) #dataset pr 80 , 20 ka rule apply kiya\n",
        "\n",
        "models = [LogisticRegression(), SVC(), DecisionTreeClassifier(), RandomForestClassifier(), KNeighborsClassifier() ] #sary models ek list me rkhy\n",
        "model_names = ['Logistic Regression', 'SVM', 'Decision Tree', 'Random Forest', 'KNN'] # phr list waly models k name rkhy idhr jese Logistic Regression =  LogisticRegression(), models aur models k names\n",
        "\n",
        "models_scores = [] #ek kali list bnai jese wss ki bnai thi\n",
        "for models, model_name in zip (models,model_names): # loop me models wali list air models names rkhy en dono listo  ko zip k function se jor diya es trha ek dataframe bn gya 2 columbs ka\n",
        "     models.fit(X_train, y_train) #sb models ko xtrain aur ytrain pr fit kiya\n",
        "     y_pred = models.predict(X_test)#jitny bhi models train kiye hy sb pr y preduct kro\n",
        "     accuracy = accuracy_score (y_test, y_pred)#sb models ka accuracy score measure kro bari bari\n",
        "     models_scores.append( [model_name, accuracy]) #you can print this for each model phr har model k sath appened kiya\n",
        "\n",
        "sorted_models = sorted (models_scores, key=lambda x: x[1], reverse=True) # to sort the values for model in sorted_models:, string ko reverse kr diya based on the value jese sb se bri value oprsb se choti nichy, x me 1 accuracy liye hy aur 0 agr hota tu wo modelsnames k liye\n",
        "for model in sorted_models:\n",
        "     print(\"Accuracy Score: \",f'{model[0]} :{model[1]:.2f}') # to print the values in sorted order, model k ander 0 argument model ka name hy aur 1 hy accuracy \n"
      ]
    },
    {
      "cell_type": "code",
      "source": [
        "models_scores"
      ],
      "metadata": {
        "colab": {
          "base_uri": "https://localhost:8080/"
        },
        "id": "SYIyyd8mFBGe",
        "outputId": "4c566c49-62a1-4549-9b2f-e792e7f258c3"
      },
      "execution_count": null,
      "outputs": [
        {
          "output_type": "execute_result",
          "data": {
            "text/plain": [
              "[['Logistic Regression', 0.8100558659217877],\n",
              " ['SVM', 0.659217877094972],\n",
              " ['Decision Tree', 0.7653631284916201],\n",
              " ['Random Forest', 0.7988826815642458],\n",
              " ['KNN', 0.6871508379888268]]"
            ]
          },
          "metadata": {},
          "execution_count": 2
        }
      ]
    },
    {
      "cell_type": "markdown",
      "source": [
        "best models k bad hyperparameter tuning bhi krty hy jo k grid search cv me hoti hy"
      ],
      "metadata": {
        "id": "7lkmj45LGmoN"
      }
    },
    {
      "cell_type": "markdown",
      "source": [
        "# **Select Best model based on Precision Score**"
      ],
      "metadata": {
        "id": "uWgzP5WBG06g"
      }
    },
    {
      "cell_type": "code",
      "source": [],
      "metadata": {
        "id": "SXOPTg0xG-uM"
      },
      "execution_count": null,
      "outputs": []
    },
    {
      "cell_type": "code",
      "execution_count": null,
      "metadata": {
        "colab": {
          "base_uri": "https://localhost:8080/"
        },
        "outputId": "067f6979-ddc5-4d4e-f689-d96b28e02f90",
        "id": "yjftr9-TJd3Q"
      },
      "outputs": [
        {
          "output_type": "stream",
          "name": "stdout",
          "text": [
            "Precision Score:  Logistic Regression :0.80\n",
            "Precision Score:  Random Forest :0.79\n",
            "Precision Score:  SVM :0.76\n",
            "Precision Score:  Decision Tree :0.71\n",
            "Precision Score:  KNN :0.65\n"
          ]
        }
      ],
      "source": [
        "# import libraries\n",
        "\n",
        "import pandas as pd\n",
        "\n",
        "import numpy as np\n",
        "\n",
        "import seaborn as sns\n",
        "\n",
        "import matplotlib.pyplot as plt\n",
        "\n",
        "df = sns.load_dataset (\"titanic\") #titanic ka dataset download kiya ku k esmy missing values hoti hy\n",
        "\n",
        "X = df[['pclass', 'sex', 'age', 'sibsp', 'parch', 'fare']] #X rkha\n",
        "\n",
        "y = df ['survived'] #survived ko y rkha tu esliye ye classification algorithm hoga hmara\n",
        "\n",
        "X = pd.get_dummies (X, columns=['sex']) #get dummies kr k X k colm ko 0 aur 1 me divide kr diya\n",
        "\n",
        "X.age.fillna(value = X['age'].mean(), inplace=True)# age ki value ko mean se fill kr diya\n",
        "\n",
        "from sklearn.linear_model import LogisticRegression #sklearn se linear model me logistic regression liya\n",
        "\n",
        "from sklearn.svm import SVC #svm se support vector classifier liya\n",
        "\n",
        "from sklearn.tree import DecisionTreeClassifier\n",
        "\n",
        "from sklearn.ensemble import RandomForestClassifier\n",
        "\n",
        "from sklearn.neighbors import KNeighborsClassifier\n",
        "\n",
        "from sklearn.metrics import accuracy_score, f1_score, precision_score, recall_score # classification k matrix liye, agr 15 lines code ki hy 26 matrix liye ese nni krna\n",
        "\n",
        "from sklearn.model_selection import train_test_split\n",
        "\n",
        "X_train, X_test, y_train, y_test = train_test_split(X, y, test_size=0.2, random_state=42) #dataset pr 80 , 20 ka rule apply kiya\n",
        "\n",
        "models = [LogisticRegression(), SVC(), DecisionTreeClassifier(), RandomForestClassifier(), KNeighborsClassifier() ] #sary models ek list me rkhy\n",
        "model_names = ['Logistic Regression', 'SVM', 'Decision Tree', 'Random Forest', 'KNN'] # phr list waly models k name rkhy idhr jese Logistic Regression =  LogisticRegression(), models aur models k names\n",
        "\n",
        "models_scores = [] #ek kali list bnai jese wss ki bnai thi\n",
        "for models, model_name in zip (models,model_names): # loop me models wali list air models names rkhy en dono listo  ko zip k function se jor diya es trha ek dataframe bn gya 2 columbs ka\n",
        "     models.fit(X_train, y_train) #sb models ko xtrain aur ytrain pr fit kiya\n",
        "     y_pred = models.predict(X_test)#jitny bhi models train kiye hy sb pr y preduct kro\n",
        "     accuracy = precision_score (y_test, y_pred)#sb models ka accuracy score measure kro bari bari\n",
        "     models_scores.append( [model_name, accuracy]) #you can print this for each model phr har model k sath appened kiya\n",
        "\n",
        "sorted_models = sorted (models_scores, key=lambda x: x[1], reverse=True) # to sort the values for model in sorted_models:, string ko reverse kr diya based on the value jese sb se bri value oprsb se choti nichy, x me 1 accuracy liye hy aur 0 agr hota tu wo modelsnames k liye\n",
        "for model in sorted_models:\n",
        "     print(\"Precision Score: \",f'{model[0]} :{model[1]:.2f}') # to print the values in sorted order, model k ander 0 argument model ka name hy aur 1 hy accuracy \n"
      ]
    },
    {
      "cell_type": "code",
      "source": [
        "models = [LogisticRegression(), SVC(), DecisionTreeClassifier(), RandomForestClassifier(), KNeighborsClassifier() ] #sary models ek list me rkhy\n",
        "model_names = ['Logistic Regression', 'SVM', 'Decision Tree', 'Random Forest', 'KNN'] # phr list waly models k name rkhy idhr jese Logistic Regression =  LogisticRegression(), models aur models k names\n",
        "\n",
        "models_scores = [] #ek kali list bnai jese wss ki bnai thi\n",
        "for models, model_name in zip (models,model_names): # loop me models wali list air models names rkhy en dono listo  ko zip k function se jor diya es trha ek dataframe bn gya 2 columbs ka\n",
        "     models.fit(X_train, y_train) #sb models ko xtrain aur ytrain pr fit kiya\n",
        "     y_pred = models.predict(X_test)#jitny bhi models train kiye hy sb pr y preduct kro\n",
        "     accuracy = recall_score (y_test, y_pred)#sb models ka accuracy score measure kro bari bari\n",
        "     models_scores.append( [model_name, accuracy]) #you can print this for each model phr har model k sath appened kiya\n",
        "\n",
        "sorted_models = sorted (models_scores, key=lambda x: x[1], reverse=True) # to sort the values for model in sorted_models:, string ko reverse kr diya based on the value jese sb se bri value oprsb se choti nichy, x me 1 accuracy liye hy aur 0 agr hota tu wo modelsnames k liye\n",
        "for model in sorted_models:\n",
        "     print(\"Recall Score: \",f'{model[0]} :{model[1]:.2f}') # to print the values in sorted order, model k ander 0 argument model ka name hy aur 1 hy accuracy \n"
      ],
      "metadata": {
        "colab": {
          "base_uri": "https://localhost:8080/"
        },
        "id": "m_GANesBLh3u",
        "outputId": "50e5622e-1c06-41fc-ff7d-aa7149e711cc"
      },
      "execution_count": null,
      "outputs": [
        {
          "output_type": "stream",
          "name": "stdout",
          "text": [
            "Recall Score:  Logistic Regression :0.72\n",
            "Recall Score:  Random Forest :0.70\n",
            "Recall Score:  Decision Tree :0.69\n",
            "Recall Score:  KNN :0.54\n",
            "Recall Score:  SVM :0.26\n"
          ]
        }
      ]
    },
    {
      "cell_type": "code",
      "source": [],
      "metadata": {
        "id": "0ycPO3TSOcv4"
      },
      "execution_count": null,
      "outputs": []
    },
    {
      "cell_type": "code",
      "source": [
        "models = [LogisticRegression(), SVC(), DecisionTreeClassifier(), RandomForestClassifier(), KNeighborsClassifier() ] #sary models ek list me rkhy\n",
        "model_names = ['Logistic Regression', 'SVM', 'Decision Tree', 'Random Forest', 'KNN'] # phr list waly models k name rkhy idhr jese Logistic Regression =  LogisticRegression(), models aur models k names\n",
        "\n",
        "models_scores = [] #ek kali list bnai jese wss ki bnai thi\n",
        "for models, model_name in zip (models,model_names): # loop me models wali list air models names rkhy en dono listo  ko zip k function se jor diya es trha ek dataframe bn gya 2 columbs ka\n",
        "     models.fit(X_train, y_train) #sb models ko xtrain aur ytrain pr fit kiya\n",
        "     y_pred = models.predict(X_test)#jitny bhi models train kiye hy sb pr y preduct kro\n",
        "     accuracy = f1_score (y_test, y_pred)#sb models ka accuracy score measure kro bari bari\n",
        "     models_scores.append( [model_name, accuracy]) #you can print this for each model phr har model k sath appened kiya\n",
        "\n",
        "sorted_models = sorted (models_scores, key=lambda x: x[1], reverse=True) # to sort the values for model in sorted_models:, string ko reverse kr diya based on the value jese sb se bri value oprsb se choti nichy, x me 1 accuracy liye hy aur 0 agr hota tu wo modelsnames k liye\n",
        "for model in sorted_models:\n",
        "     print(\"F1 Score: \",f'{model[0]} :{model[1]:.2f}') # to print the values in sorted order, model k ander 0 argument model ka name hy aur 1 hy accuracy \n"
      ],
      "metadata": {
        "colab": {
          "base_uri": "https://localhost:8080/"
        },
        "outputId": "6028fa79-06fc-4992-b821-2359039c436e",
        "id": "LphAmyMxOff-"
      },
      "execution_count": null,
      "outputs": [
        {
          "output_type": "stream",
          "name": "stdout",
          "text": [
            "F1 Score:  Logistic Regression :0.76\n",
            "F1 Score:  Random Forest :0.75\n",
            "F1 Score:  Decision Tree :0.71\n",
            "F1 Score:  KNN :0.59\n",
            "F1 Score:  SVM :0.38\n"
          ]
        }
      ]
    }
  ]
}