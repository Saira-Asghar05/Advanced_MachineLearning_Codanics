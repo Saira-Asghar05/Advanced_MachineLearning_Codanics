{
  "nbformat": 4,
  "nbformat_minor": 0,
  "metadata": {
    "colab": {
      "provenance": []
    },
    "kernelspec": {
      "name": "python3",
      "display_name": "Python 3"
    },
    "language_info": {
      "name": "python"
    }
  },
  "cells": [
    {
      "cell_type": "code",
      "execution_count": null,
      "metadata": {
        "colab": {
          "base_uri": "https://localhost:8080/"
        },
        "id": "hcy1ZsMy3e5F",
        "outputId": "019618be-7c95-43f2-f22d-60f9da252abf"
      },
      "outputs": [
        {
          "output_type": "stream",
          "name": "stdout",
          "text": [
            "Best hyperparameters: {'svc__C': 10, 'svc__kernel': 'rbf'}\n",
            "cross-validation score: 0.9733333333333334\n"
          ]
        }
      ],
      "source": [
        "from sklearn.model_selection import GridSearchCV  #this is the common method\n",
        "from sklearn.svm import SVC #support vector classifier\n",
        "from sklearn.datasets import load_iris\n",
        "from sklearn.preprocessing import StandardScaler\n",
        "from sklearn.pipeline import make_pipeline\n",
        "\n",
        "#load the iris dataset and create a pipline with an SVM classifier\n",
        "iris = load_iris()\n",
        "pipeline = make_pipeline(StandardScaler(), SVC())\n",
        "\n",
        "#define the hyperparameters to using grid search\n",
        "param_grid = {\n",
        "    'svc__C': [0.1,1,10],\n",
        "    'svc__kernel': ['linear', 'rbf','poly'] #3 tyes k kernal hy\n",
        "}\n",
        "\n",
        "#perform grid search with 5-fold cross-validation\n",
        "grid = GridSearchCV(pipeline, param_grid = param_grid, cv=5)\n",
        "grid.fit(iris.data, iris.target)\n",
        "#print the best hyperparameters aand the mean croos-validation score\n",
        "print(\"Best hyperparameters:\", grid.best_params_)\n",
        "print(\"cross-validation score:\",grid.best_score_)"
      ]
    },
    {
      "cell_type": "markdown",
      "source": [
        "Random Search"
      ],
      "metadata": {
        "id": "bFp9uJLjAkwE"
      }
    },
    {
      "cell_type": "code",
      "source": [],
      "metadata": {
        "id": "-fRhBW1NAvfz"
      },
      "execution_count": null,
      "outputs": []
    },
    {
      "cell_type": "code",
      "execution_count": null,
      "metadata": {
        "colab": {
          "base_uri": "https://localhost:8080/"
        },
        "outputId": "1f6542f8-947d-4cdc-a312-a5612b504361",
        "id": "B3TD5Ca5Azuk"
      },
      "outputs": [
        {
          "output_type": "stream",
          "name": "stdout",
          "text": [
            "Best hyperparameters: {'svc__C': 10, 'svc__kernel': 'rbf'}\n",
            "cross-validation score: 0.9733333333333334\n"
          ]
        }
      ],
      "source": [
        "from sklearn.model_selection import RandomizedSearchCV\n",
        "from sklearn.svm import SVC #support vector classifier\n",
        "from sklearn.datasets import load_iris\n",
        "from sklearn.preprocessing import StandardScaler\n",
        "from sklearn.pipeline import make_pipeline\n",
        "from scipy.stats import uniform\n",
        "\n",
        "#load the iris dataset and create a pipline with an SVM classifier\n",
        "iris = load_iris()\n",
        "pipeline = make_pipeline(StandardScaler(), SVC()) #pipline me sab kuch ajata hy preprocessing,model randomization bhi cross validation bhi jese ghr ki pipeline hoti at the end outlit\n",
        "\n",
        "#define the hyperparameters to using grid search\n",
        "param_dist = {\n",
        "    'svc__C': uniform(0.1,100),\n",
        "    'svc__kernel': ['linear', 'rbf','poly'] #3 tyes k kernal hy\n",
        "}\n",
        "\n",
        "#perform grid search with 5-fold cross-validation\n",
        "random = RandomizedSearchCV(pipeline, param_distributions=param_dist, cv=5, n_iter=10)\n",
        "random.fit(iris.data, iris.target)\n",
        "#print the best hyperparameters aand the mean croos-validation score\n",
        "print(\"Best hyperparameters:\", grid.best_params_)\n",
        "print(\"cross-validation score:\",grid.best_score_)"
      ]
    },
    {
      "cell_type": "markdown",
      "source": [
        "# Bayesian optimization\n"
      ],
      "metadata": {
        "id": "eTZQD8_OIUJy"
      }
    },
    {
      "cell_type": "code",
      "source": [],
      "metadata": {
        "id": "JTAoErd9N-wo"
      },
      "execution_count": null,
      "outputs": []
    },
    {
      "cell_type": "markdown",
      "source": [
        "# **Manual Tuning**"
      ],
      "metadata": {
        "id": "nOuwkmqgN_2c"
      }
    },
    {
      "cell_type": "code",
      "source": [],
      "metadata": {
        "id": "-OuOZu9VOIO8"
      },
      "execution_count": null,
      "outputs": []
    },
    {
      "cell_type": "code",
      "execution_count": null,
      "metadata": {
        "colab": {
          "base_uri": "https://localhost:8080/"
        },
        "outputId": "0deed188-5a71-40dc-dbcb-758e95e6f8cb",
        "id": "4oJE1Oa0OL1m"
      },
      "outputs": [
        {
          "output_type": "stream",
          "name": "stdout",
          "text": [
            "validation score: 0.0\n"
          ]
        }
      ],
      "source": [
        "\n",
        "from sklearn.svm import SVC #support vector classifier\n",
        "from sklearn.datasets import load_iris\n",
        "from sklearn.preprocessing import StandardScaler\n",
        "from sklearn.pipeline import make_pipeline\n",
        "from scipy.stats import uniform\n",
        "\n",
        "#load the iris dataset and create a pipline with an SVM classifier\n",
        "iris = load_iris()\n",
        "pipeline = make_pipeline(StandardScaler(), SVC()) #pipline me sab kuch ajata hy preprocessing,model randomization bhi cross validation bhi jese ghr ki pipeline hoti at the end outlit\n",
        "\n",
        "\n",
        "#maualy adjust thehyperparameters and evaluate the model on a validation set\n",
        "pipeline.set_params(svc__C=10, svc__kernel='rbf')\n",
        "pipeline.fit(iris.data[:100], iris.target[:100])\n",
        "score = pipeline.score(iris.data[100:], iris.target[100:])\n",
        "print(\"validation score:\",score) \n"
      ]
    }
  ]
}