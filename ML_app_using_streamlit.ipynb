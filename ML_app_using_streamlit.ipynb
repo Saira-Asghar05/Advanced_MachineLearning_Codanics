{
  "nbformat": 4,
  "nbformat_minor": 0,
  "metadata": {
    "colab": {
      "provenance": []
    },
    "kernelspec": {
      "name": "python3",
      "display_name": "Python 3"
    },
    "language_info": {
      "name": "python"
    }
  },
  "cells": [
    {
      "cell_type": "code",
      "execution_count": null,
      "metadata": {
        "id": "2mSViBuyUnpa"
      },
      "outputs": [],
      "source": [
        "import pandas as pd\n",
        "\n",
        "import numpy as np \n",
        "import seaborn as sns\n",
        "from sklearn. linear_model import LogisticRegression\n",
        "import joblib \n",
        "df =pd.read_csv('https://gist.githubusercontent.com/gerchristko/9c2c6e3e3634c9c33d2ea7a42306e099/raw/839f02cd<\n",
        "df.head(10)\n",
        "\n",
        "X = df [[ 'Height', \"Weight\", \"Eye\"]]\n",
        "\n",
        "X = X. replace(['Brown', \"Blue\"], '0', '1')\n",
        " y= ['Species']\n",
        "model = LinearRegression () \n",
        "model. fit(X, y) \n",
        "joblib. dump(model, 'model. pkl' ) "
      ]
    },
    {
      "cell_type": "code",
      "source": [
        "##App.py\n",
        "\n",
        "\n",
        "import streamlit as st\n",
        "\n",
        "import pandas as pd\n",
        "\n",
        "import joblib\n",
        "\n",
        "# Title\n",
        "\n",
        "st.header(\"ML app to detect cat vs. Dog\")\n",
        "\n",
        "# input bar 1\n",
        "\n",
        "height = st.number_input(\"Height\", min_value=0, max_value=200, step=1)\n",
        "\n",
        "# input bar 2\n",
        "\n",
        "weight = st.number_input(\"Weight\", min_value=0, max_value=200, step=1)\n",
        "\n",
        "input in drop down list\n",
        "\n",
        "eyes = st.selectbox(\"Select Eye Color\", (\"Blue\", \"Brown\"))\n",
        "\n",
        "# If button is pressed\n",
        "\n",
        "if st.button(\"Submit\"):\n",
        "\n",
        "# Unpickle classifier\n",
        "\n",
        "clf.joblib.load(\"model.pkl\")\n",
        "\n",
        "# Store inputs into dataframe\n",
        "\n",
        "X = pd.DataFrame([[height, weight, eyes]],\n",
        "\n",
        "columns = [\"Height\", \"Weight\", \"Eyes\"])\n",
        "\n",
        "X = X. replace([\"Brown\", \"Blue\"], [1, 0] )\n",
        "\n",
        "# Get prediction\n",
        "\n",
        "prediction = clf.predict(x)[0]\n",
        "\n",
        "* Output prediction\n",
        "\n",
        "st.text(f\"This instance is a (prediction}\")\n"
      ],
      "metadata": {
        "id": "W73MTBCKYME-"
      },
      "execution_count": null,
      "outputs": []
    }
  ]
}